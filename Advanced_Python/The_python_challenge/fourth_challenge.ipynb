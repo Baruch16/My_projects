{
 "cells": [
  {
   "cell_type": "code",
   "execution_count": 4,
   "metadata": {},
   "outputs": [
    {
     "name": "stdout",
     "output_type": "stream",
     "text": [
      "http://www.pythonchallenge.com/pc/def/linkedlist.php\n"
     ]
    }
   ],
   "source": [
    "import requests\n",
    "import re\n",
    "\n",
    "def replace_string(input_str, old_substring, new_substring):\n",
    "    return input_str.replace(old_substring, new_substring)\n",
    "\n",
    "def get_html_content(url: str) -> str:\n",
    "    \"\"\"Retrieve the HTML content of a webpage specified by a URL.\"\"\"\n",
    "    response = requests.get(url)\n",
    "    return response.text\n",
    "\n",
    "def find_guarded_char(response:str) -> None:\n",
    "    \n",
    "    \"\"\"Finds the only small letter that is surrounded by three capital\n",
    "\n",
    "   \"\"\"\n",
    "    idx = response.index('<!--')\n",
    "    idxs = response[idx+1:].index('-->')\n",
    "    idx = idxs+idx\n",
    "    return \"\".join(re.findall('[a-z][A-Z][A-Z][A-Z]([a-z])[A-Z][A-Z][A-Z][a-z]',response))\n",
    "\n",
    "def main():\n",
    "    url = \"http://www.pythonchallenge.com/pc/def/equality.html\"\n",
    "    response = get_html_content(url)\n",
    "    guarded_chars = find_guarded_char(response)\n",
    "    modified_string=replace_string(url,\"equality.html\",f\"{guarded_chars}.php\")\n",
    "    print(modified_string)\n",
    "main()"
   ]
  },
  {
   "cell_type": "markdown",
   "metadata": {},
   "source": []
  }
 ],
 "metadata": {
  "kernelspec": {
   "display_name": "Python 3",
   "language": "python",
   "name": "python3"
  },
  "language_info": {
   "codemirror_mode": {
    "name": "ipython",
    "version": 3
   },
   "file_extension": ".py",
   "mimetype": "text/x-python",
   "name": "python",
   "nbconvert_exporter": "python",
   "pygments_lexer": "ipython3",
   "version": "3.10.6"
  },
  "orig_nbformat": 4,
  "vscode": {
   "interpreter": {
    "hash": "916dbcbb3f70747c44a77c7bcd40155683ae19c65e1c03b4aa3499c5328201f1"
   }
  }
 },
 "nbformat": 4,
 "nbformat_minor": 2
}
