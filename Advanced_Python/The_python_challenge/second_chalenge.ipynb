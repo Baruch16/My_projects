{
 "cells": [
  {
   "cell_type": "code",
   "execution_count": 1,
   "metadata": {},
   "outputs": [
    {
     "name": "stdout",
     "output_type": "stream",
     "text": [
      "i hope you didnt translate it by hand. thats what computers are for. doing it in by hand is inefficient and thats why this text is so long. using string.maketrans() is recommended. now apply on the url.\n",
      "jvvr://yyy.ravjqpejcnngpig.eqo/re/fgh/ocr.jvon\n"
     ]
    }
   ],
   "source": [
    "#my solution\n",
    "\n",
    "def change_string(string: str) -> str:\n",
    "    new_string = ''\n",
    "    for char in string:\n",
    "        if char.isalpha():\n",
    "            new_char_code = ord(char) + 2\n",
    "            if char.isupper() and new_char_code > ord('Z'):\n",
    "                new_char_code -= 26\n",
    "            elif char.islower() and new_char_code > ord('z'):\n",
    "                new_char_code -= 26\n",
    "            new_char = chr(new_char_code)\n",
    "        else:\n",
    "            new_char = char\n",
    "        new_string += new_char\n",
    "    return new_string\n",
    "\n",
    "def main():\n",
    "    string = 'g fmnc wms bgblr rpylqjyrc gr zw fylb. rfyrq ufyr amknsrcpq ypc dmp. bmgle gr gl zw fylb gq glcddgagclr ylb rfyr''q'' ufw rfgq rcvr gq qm jmle. sqgle qrpgle.kyicrpylq() gq pcamkkclbcb. lmu ynnjw ml rfc spj.'\n",
    "    url='http://www.pythonchallenge.com/pc/def/map.html'\n",
    "    new_string = string(string)\n",
    "    new_url=string(url)\n",
    "    print(new_string)\n",
    "    print(new_url)\n",
    "\n",
    "main()\n",
    "\n"
   ]
  },
  {
   "cell_type": "code",
   "execution_count": 6,
   "metadata": {},
   "outputs": [
    {
     "name": "stdout",
     "output_type": "stream",
     "text": [
      "i hope you didnt translate it by hand. thats what computers are for. doing it in by hand is inefficient and that's why this text is so long. using string.maketrans() is recommended. now apply on the url.\n",
      "jvvr://yyy.ravjqpejcnngpig.eqo/re/fgh/ocr.jvon\n",
      "http://www.pythonchallenge.com/pc/def/ocr.html\n"
     ]
    }
   ],
   "source": [
    "#solution using maketrans\n",
    "import requests\n",
    "\n",
    "def replace_string(input_str, old_substring, new_substring):\n",
    "    return input_str.replace(old_substring, new_substring)\n",
    "\n",
    "def change_words(string: str, translation_dict: dict) -> str:\n",
    "    \"\"\"\n",
    "    Replace a given substring with a new substring with each letter changing to one from the table.\n",
    "\n",
    "    Parameters:\n",
    "    string (str): The substring to replace.\n",
    "    translation_dict (dict):The dictionary with the directions to change \n",
    "\n",
    "    Returns:\n",
    "    str: The modified string.\n",
    "    \"\"\"\n",
    "    translation_table = str.maketrans(translation_dict)\n",
    "    return string.translate(translation_table)\n",
    "\n",
    "def get_content_From_url(url:str) -> str:\n",
    "    #decode the message in challenge\n",
    "    response = requests.get(url)\n",
    "\n",
    "    # Check that the request was successful (status code 200)\n",
    "    if response.status_code != 200:\n",
    "        raise Exception(\"Failed to get page content\")\n",
    "\n",
    "    return response.content.decode()\n",
    "\n",
    "def get_desired_content(page_content:str,line_number:int) -> str:\n",
    "\n",
    "    # Get the line that we want (in this case, line 16)\n",
    "    \n",
    "    lines = page_content.split('\\n')\n",
    "    return lines[line_number - 1]\n",
    "\n",
    "\n",
    "\n",
    "def main():\n",
    "    \n",
    "    translation_dict = {'a': 'c', 'b': 'd', 'c': 'e', 'd': 'f', 'e': 'g', 'f': 'h', 'g': 'i', 'h': 'j', 'i': 'k', 'j': 'l',\n",
    "            'k': 'm', 'l': 'n', 'm': 'o', 'n': 'p', 'o': 'q', 'p': 'r', 'q': 's', 'r': 't', 's': 'u', 't': 'v',\n",
    "            'u': 'w', 'v': 'x', 'w': 'y', 'x': 'z', 'y': 'a', 'z': 'b'} \n",
    "\n",
    "    url = \"http://www.pythonchallenge.com/pc/def/map.html\"\n",
    "    page_content=get_content_From_url(url)\n",
    "\n",
    "    desired_content=get_desired_content(page_content,16)\n",
    "\n",
    "    # Call the function to translate the line\n",
    "    translated_line = change_words(desired_content, translation_dict)\n",
    "    print(translated_line)\n",
    "\n",
    "    #find the correct url\n",
    "    translated_line = change_words(url,translation_dict)\n",
    "    print(translated_line)\n",
    "    modified_string=replace_string(url,\"map.html\",\"ocr.html\")\n",
    "    print(modified_string)\n",
    "\n",
    "\n",
    "main()"
   ]
  },
  {
   "cell_type": "code",
   "execution_count": 4,
   "metadata": {},
   "outputs": [
    {
     "name": "stdout",
     "output_type": "stream",
     "text": [
      "cdefghijklmnopqrstuvwxyzab\n"
     ]
    }
   ],
   "source": [
    "a = 'abcdefghijklmnopqrstuvwxyz'\n",
    "b = a[2:] + a[:2]\n",
    "print(b)"
   ]
  }
 ],
 "metadata": {
  "kernelspec": {
   "display_name": "Python 3",
   "language": "python",
   "name": "python3"
  },
  "language_info": {
   "codemirror_mode": {
    "name": "ipython",
    "version": 3
   },
   "file_extension": ".py",
   "mimetype": "text/x-python",
   "name": "python",
   "nbconvert_exporter": "python",
   "pygments_lexer": "ipython3",
   "version": "3.10.6"
  },
  "orig_nbformat": 4,
  "vscode": {
   "interpreter": {
    "hash": "916dbcbb3f70747c44a77c7bcd40155683ae19c65e1c03b4aa3499c5328201f1"
   }
  }
 },
 "nbformat": 4,
 "nbformat_minor": 2
}
