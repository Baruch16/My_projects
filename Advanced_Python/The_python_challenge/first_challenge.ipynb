{
 "cells": [
  {
   "cell_type": "code",
   "execution_count": 3,
   "metadata": {},
   "outputs": [
    {
     "name": "stdout",
     "output_type": "stream",
     "text": [
      "http://www.pythonchallenge.com/pc/def/274877906944.html\n"
     ]
    }
   ],
   "source": [
    "\n",
    "def replace_string(input_str, old_substring, new_substring):\n",
    "    \"\"\"\n",
    "    Replace a given substring in a string with a new substring.\n",
    "\n",
    "    Parameters:\n",
    "    input_str (str): The input string to modify.\n",
    "    old_substring (str): The substring to replace.\n",
    "    new_substring (str): The substring to replace `old_substring` with.\n",
    "\n",
    "    Returns:\n",
    "    str: The modified string.\n",
    "    \"\"\"\n",
    "    return input_str.replace(old_substring, new_substring)\n",
    "\n",
    "def main():\n",
    "    input_str = 'http://www.pythonchallenge.com/pc/def/0.html'\n",
    "    old_substring = \"0.html\"\n",
    "    new_substring = f\"{2**38}.html\"\n",
    "    modified_str = replace_string(input_str, old_substring, new_substring)\n",
    "    print(modified_str)\n",
    "\n",
    "main()"
   ]
  }
 ],
 "metadata": {
  "kernelspec": {
   "display_name": "Python 3",
   "language": "python",
   "name": "python3"
  },
  "language_info": {
   "codemirror_mode": {
    "name": "ipython",
    "version": 3
   },
   "file_extension": ".py",
   "mimetype": "text/x-python",
   "name": "python",
   "nbconvert_exporter": "python",
   "pygments_lexer": "ipython3",
   "version": "3.10.6"
  },
  "orig_nbformat": 4,
  "vscode": {
   "interpreter": {
    "hash": "916dbcbb3f70747c44a77c7bcd40155683ae19c65e1c03b4aa3499c5328201f1"
   }
  }
 },
 "nbformat": 4,
 "nbformat_minor": 2
}
